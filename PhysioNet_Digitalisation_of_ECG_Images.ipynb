{
  "metadata": {
    "kernelspec": {
      "language": "python",
      "display_name": "Python 3",
      "name": "python3"
    },
    "language_info": {
      "name": "python",
      "version": "3.12.11",
      "mimetype": "text/x-python",
      "codemirror_mode": {
        "name": "ipython",
        "version": 3
      },
      "pygments_lexer": "ipython3",
      "nbconvert_exporter": "python",
      "file_extension": ".py"
    },
    "kaggle": {
      "accelerator": "tpuV5e8",
      "dataSources": [
        {
          "sourceId": 97984,
          "databundleVersionId": 14096757,
          "sourceType": "competition"
        }
      ],
      "dockerImageVersionId": 31153,
      "isInternetEnabled": true,
      "language": "python",
      "sourceType": "notebook",
      "isGpuEnabled": false
    },
    "colab": {
      "name": "PhysioNet - Digitalisation of ECG Images",
      "provenance": [],
      "include_colab_link": true
    }
  },
  "nbformat_minor": 0,
  "nbformat": 4,
  "cells": [
    {
      "cell_type": "markdown",
      "metadata": {
        "id": "view-in-github",
        "colab_type": "text"
      },
      "source": [
        "<a href=\"https://colab.research.google.com/github/Mathavk1606/PhysioNet---Digitalisation-of-ECG-Images/blob/main/PhysioNet_Digitalisation_of_ECG_Images.ipynb\" target=\"_parent\"><img src=\"https://colab.research.google.com/assets/colab-badge.svg\" alt=\"Open In Colab\"/></a>"
      ]
    },
    {
      "source": [
        "# IMPORTANT: SOME KAGGLE DATA SOURCES ARE PRIVATE\n",
        "# RUN THIS CELL IN ORDER TO IMPORT YOUR KAGGLE DATA SOURCES.\n",
        "import kagglehub\n",
        "kagglehub.login()\n"
      ],
      "metadata": {
        "id": "qd_xjVLjjseZ"
      },
      "cell_type": "code",
      "outputs": [],
      "execution_count": null
    },
    {
      "source": [
        "# IMPORTANT: RUN THIS CELL IN ORDER TO IMPORT YOUR KAGGLE DATA SOURCES,\n",
        "# THEN FEEL FREE TO DELETE THIS CELL.\n",
        "# NOTE: THIS NOTEBOOK ENVIRONMENT DIFFERS FROM KAGGLE'S PYTHON\n",
        "# ENVIRONMENT SO THERE MAY BE MISSING LIBRARIES USED BY YOUR\n",
        "# NOTEBOOK.\n",
        "\n",
        "physionet_ecg_image_digitization_path = kagglehub.competition_download('physionet-ecg-image-digitization')\n",
        "\n",
        "print('Data source import complete.')\n"
      ],
      "metadata": {
        "id": "BylyOlEMjseb"
      },
      "cell_type": "code",
      "outputs": [],
      "execution_count": null
    },
    {
      "cell_type": "code",
      "source": [
        "##Preprocessing libraries\n",
        "import pandas as pd\n",
        "import numpy as np\n",
        "\n",
        "##Ploting libraries\n",
        "import matplotlib.pyplot as plt\n",
        "\n",
        "##Path libraries\n",
        "from pathlib import Path"
      ],
      "metadata": {
        "trusted": true,
        "execution": {
          "iopub.status.busy": "2025-10-29T15:46:34.345318Z",
          "iopub.execute_input": "2025-10-29T15:46:34.345462Z",
          "iopub.status.idle": "2025-10-29T15:46:39.203134Z",
          "shell.execute_reply.started": "2025-10-29T15:46:34.345447Z",
          "shell.execute_reply": "2025-10-29T15:46:39.202315Z"
        },
        "id": "wjNF16sQjsec"
      },
      "outputs": [],
      "execution_count": null
    },
    {
      "cell_type": "code",
      "source": [
        "##Configs\n",
        "\n",
        "DATA_PATH = Path('/kaggle/input/physionet-ecg-image-digitization')"
      ],
      "metadata": {
        "trusted": true,
        "id": "RK468WRijsec"
      },
      "outputs": [],
      "execution_count": null
    },
    {
      "cell_type": "code",
      "source": [
        "test_df = pd.read_csv(DATA_PATH / 'test.csv')\n",
        "train_df = pd.read_csv(DATA_PATH / 'train.csv')"
      ],
      "metadata": {
        "trusted": true,
        "id": "GditizcCjsec"
      },
      "outputs": [],
      "execution_count": null
    },
    {
      "cell_type": "code",
      "source": [
        "print(\"\\n\" + \"=\"*80)\n",
        "print(\"TRAINING DATA SAMPLE\")\n",
        "print(\"=\"*80)\n",
        "display(train_df.head(10))\n",
        "\n",
        "print(\"\\n\" + \"=\"*80)\n",
        "print(\"TEST DATA SAMPLE\")\n",
        "print(\"=\"*80)\n",
        "display(test_df.head(15))"
      ],
      "metadata": {
        "trusted": true,
        "id": "nZATE0qXjsed"
      },
      "outputs": [],
      "execution_count": null
    }
  ]
}